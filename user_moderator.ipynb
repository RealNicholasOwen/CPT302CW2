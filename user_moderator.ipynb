{
 "cells": [
  {
   "cell_type": "code",
   "execution_count": null,
   "id": "f8cab61e",
   "metadata": {},
   "outputs": [
    {
     "name": "stderr",
     "output_type": "stream",
     "text": [
      "Hardware accelerator e.g. GPU is available in the environment, but no `device` argument is passed to the `Pipeline` object. Model will be on CPU.\n",
      "c:\\Users\\jason\\anaconda3\\envs\\myenv\\lib\\site-packages\\transformers\\pipelines\\text_classification.py:106: UserWarning: `return_all_scores` is now deprecated,  if want a similar functionality use `top_k=None` instead of `return_all_scores=True` or `top_k=1` instead of `return_all_scores=False`.\n",
      "  warnings.warn(\n",
      "c:\\Users\\jason\\anaconda3\\envs\\myenv\\lib\\site-packages\\transformers\\pipelines\\text_classification.py:106: UserWarning: `return_all_scores` is now deprecated,  if want a similar functionality use `top_k=None` instead of `return_all_scores=True` or `top_k=1` instead of `return_all_scores=False`.\n",
      "  warnings.warn(\n"
     ]
    }
   ],
   "source": [
    "# from spade.behaviour import CyclicBehaviour\n",
    "# from spade.message import Message\n",
    "# from thread_moderator import user_scores\n",
    "\n",
    "# # Attach the user monitoring behaviour to agent2\n",
    "# agent2.add_behaviour(UserMonitor())\n",
    "\n",
    "# class UserMonitor(CyclicBehaviour):\n",
    "#     async def run(self):\n",
    "#         # Wait for incoming XMPP messages\n",
    "#         msg: Message = await self.receive(timeout=30)\n",
    "#         if msg.body.starswith(\"harmful\"):\n",
    "#             content = msg.body[8:-1]\n",
    "#             sender = str(msg.sender)\n",
    "#             await self.agent.bdi.set_belief(\"harmful\", content, sender)\n",
    "\n",
    "# @agent2.agent.bdi.on_event(\"!python_profiling\")\n",
    "# async def python_profiling(self, content, sender):\n",
    "#     msg_id, text, textScore, sender = content.split(\",\")\n",
    "# # Extract sender JID and message text\n",
    "#     score = get_avg_user_score(sender)\n",
    "#     # Assert belief in BDI engine with latest score\n",
    "#     self.agent.bdi.set_belief(\"behavioral\", sender, score)\n",
    "#     msg = Message(to=\"grp27.3.cpt302@xmpp.jp\")\n",
    "#     msg.set_metadata(\"performative\", \"inform\")\n",
    "#     msg.body = f\"behavioral({msg_id},{sender}, {score})\"\n",
    "#     await self.send(msg)\n",
    "\n",
    "#     return True\n",
    "\n",
    "# # To wire this behaviour in your main script or notebook:\n",
    "# # from user_moderator import UserMonitor\n",
    "# # agent2.add_behaviour(UserMonitor())\n",
    "\n",
    "# def get_avg_user_score(msg_Sender):\n",
    "#     \"\"\"Compute average score for each sender in scores\"\"\"\n",
    "#     sender_scores = []\n",
    "#     for sender, score in user_scores:\n",
    "#        if sender == msg_Sender:\n",
    "#             sender_scores.append(score)\n",
    "#     if sender_scores:\n",
    "#         avg_score = sum(sender_scores) / len(sender_scores)\n",
    "#         return avg_score\n",
    "#     else:\n",
    "#         return 0.0\n"
   ]
  }
 ],
 "metadata": {
  "kernelspec": {
   "display_name": "Python (myenv)",
   "language": "python",
   "name": "myenv"
  },
  "language_info": {
   "codemirror_mode": {
    "name": "ipython",
    "version": 3
   },
   "file_extension": ".py",
   "mimetype": "text/x-python",
   "name": "python",
   "nbconvert_exporter": "python",
   "pygments_lexer": "ipython3",
   "version": "3.8.20"
  }
 },
 "nbformat": 4,
 "nbformat_minor": 5
}
