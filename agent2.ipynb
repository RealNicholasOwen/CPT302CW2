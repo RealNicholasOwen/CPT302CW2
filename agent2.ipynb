{
 "cells": [
  {
   "cell_type": "code",
   "execution_count": null,
   "id": "ff3c9169",
   "metadata": {},
   "outputs": [],
   "source": [
    "from spade_bdi.bdi import BDIAgent\n",
    "from spade.message import Message\n",
    "\n",
    "\n",
    "class user_moderator(BDIAgent):\n",
    "    def __init__(self, jid, password):\n",
    "        super().__init__(jid, password)\n",
    "\n",
    "\n",
    "    async def python_profiling(self, userScore, sender):\n",
    "\n",
    "        score = self.get_avg_user_score(sender, userScore)\n",
    "        self.agent.bdi.set_belief(\"behavioral\", score, sender)\n",
    "        return True\n",
    "    \n",
    "    def get_avg_user_score(msg_Sender, user_scores):\n",
    "        sender_scores = []\n",
    "        for sender, score in user_scores:\n",
    "            if sender == msg_Sender:\n",
    "                    sender_scores.append(score)\n",
    "            if sender_scores:\n",
    "                avg_score = sum(sender_scores) / len(sender_scores)\n",
    "                return avg_score\n",
    "            else:\n",
    "                return 0.0\n",
    "    async def setup(self):\n",
    "        print(\"Setting up user moderator agent...\")\n",
    "        self.set_internal_action(\"python_profiling\", self.python_profiling)\n",
    "\n",
    "\n"
   ]
  },
  {
   "cell_type": "code",
   "execution_count": null,
   "id": "703f9fc6",
   "metadata": {},
   "outputs": [],
   "source": []
  }
 ],
 "metadata": {
  "language_info": {
   "name": "python"
  }
 },
 "nbformat": 4,
 "nbformat_minor": 5
}
