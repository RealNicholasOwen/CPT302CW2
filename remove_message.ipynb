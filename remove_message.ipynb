{
 "cells": [
  {
   "cell_type": "code",
   "execution_count": null,
   "id": "0f030816",
   "metadata": {},
   "outputs": [],
   "source": [
    "import sys\n",
    "import pandas as pd\n",
    "\n",
    "def main():\n",
    "    # Expect three arguments: input CSV path, user, and message to remove\n",
    "    if len(sys.argv) != 4:\n",
    "        print(\"Usage: python remove_message.ipynb <input.csv> <user_to_remove> <message_to_remove>\")\n",
    "        return None\n",
    "    user = sys.argv[1]\n",
    "    message = sys.argv[2]\n",
    "    # Load dataset\n",
    "    df = pd.read_csv(\"input_csv\")\n",
    "    # Filter out rows matching both user and message\n",
    "    mask = ~((df['user'] == user) & (df['message'] == message))\n",
    "    df_filtered = df[mask]\n",
    "    # Save filtered data to a new file\n",
    "    output_csv = f\"filtered_{input_csv}\"\n",
    "    df_filtered.to_csv(output_csv, index=False)\n",
    "    print(f\"Filtered dataset saved to {output_csv}\")\n",
    "    return df_filtered\n",
    "\n",
    "if __name__ == \"__main__\":\n",
    "    result_df = main()\n",
    "    # Display the filtered DataFrame if running interactively\n",
    "    if result_df is not None:\n",
    "        display(result_df)\n"
   ]
  }
 ],
 "metadata": {
  "language_info": {
   "name": "python"
  }
 },
 "nbformat": 4,
 "nbformat_minor": 5
}
