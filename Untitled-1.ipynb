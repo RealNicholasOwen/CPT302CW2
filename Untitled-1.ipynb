{
 "cells": [
  {
   "cell_type": "code",
   "execution_count": null,
   "id": "4b895813",
   "metadata": {},
   "outputs": [
    {
     "name": "stderr",
     "output_type": "stream",
     "text": [
      "\u001b[32m2025-05-16 20:31:54.736\u001b[0m | \u001b[1mINFO    \u001b[0m | \u001b[36mspade_bdi.bdi\u001b[0m:\u001b[36m_load_asl\u001b[0m:\u001b[36m76\u001b[0m - \u001b[1mWarning: ASL specified for grp11.cpt302@xmpp.jp does not exist. Disabling BDI.\u001b[0m\n"
     ]
    },
    {
     "name": "stderr",
     "output_type": "stream",
     "text": [
      "No behaviour matched for message: <message to=\"grp11.cpt302@xmpp.jp/1461769184590350463414056693698\" from=\"xmpp.jp\" thread=\"None\" metadata={}>\n",
      "Hi, This is XMPP.JP Admin.\n",
      "We just launched new XMPP Web Clinent \"inverse\".\n",
      "https://www.xmpp.jp/client\n",
      "\n",
      "Please try it. Thanks.\n",
      "</message>\n",
      "DNS: aiodns not found. Can not use SRV lookup.\n",
      "DNS: aiodns not found. Can not use SRV lookup.\n",
      "DNS: aiodns not found. Can not use SRV lookup.\n",
      "DNS: aiodns not found. Can not use SRV lookup.\n",
      "DNS: aiodns not found. Can not use SRV lookup.\n",
      "DNS: aiodns not found. Can not use SRV lookup.\n",
      "DNS: aiodns not found. Can not use SRV lookup.\n",
      "DNS: aiodns not found. Can not use SRV lookup.\n",
      "DNS: aiodns not found. Can not use SRV lookup.\n",
      "DNS: aiodns not found. Can not use SRV lookup.\n",
      "DNS: aiodns not found. Can not use SRV lookup.\n",
      "DNS: aiodns not found. Can not use SRV lookup.\n"
     ]
    }
   ],
   "source": [
    "from spade_bdi.bdi import BDIAgent\n",
    "import asyncio\n",
    "import pandas as pd\n",
    "from spade.message import Message\n",
    "\n",
    "async def main():\n",
    "    agent1 = BDIAgent(\"grp27.cpt302@xmpp.jp\", \"Tj1uH4ns0wen\", \"thread_moderator.asl\")\n",
    "    agent2 = BDIAgent(\"grp27.2.cpt302@xmpp.jp\", \"Tj1uH4ns0wen\", \"user_moderator.asl\")\n",
    "    agent3 = BDIAgent(\"grp27.3.cpt302@xmpp.jp\", \"Tj1uH4ns0wen\", \"consensus.asl\")\n",
    "    await agent1.start()\n",
    "    await agent2.start()\n",
    "    await agent3.start()\n",
    "    await asyncio.sleep(1)\n",
    "    await read_data(agent1.jid)\n",
    "\n",
    "async def read_data(agent):\n",
    "    df = pd.read_csv(\"data.csv\")\n",
    "    for _, row in df.iterrows():\n",
    "        msg1 = Message(to=agent)\n",
    "        msg1.set_metadata(\"performative\", \"inform\")\n",
    "        msg1.sender = row['user']\n",
    "        msg1.body = row['message']\n",
    "        await agent.client.send(msg1)\n",
    "        await asyncio.sleep(0.5)"
   ]
  }
 ],
 "metadata": {
  "kernelspec": {
   "display_name": "Python (myenv)",
   "language": "python",
   "name": "myenv"
  },
  "language_info": {
   "codemirror_mode": {
    "name": "ipython",
    "version": 3
   },
   "file_extension": ".py",
   "mimetype": "text/x-python",
   "name": "python",
   "nbconvert_exporter": "python",
   "pygments_lexer": "ipython3",
   "version": "3.8.20"
  }
 },
 "nbformat": 4,
 "nbformat_minor": 5
}
