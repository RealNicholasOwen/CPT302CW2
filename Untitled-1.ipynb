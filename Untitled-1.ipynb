{
 "cells": [
  {
   "cell_type": "code",
   "execution_count": null,
   "id": "4b895813",
   "metadata": {},
   "outputs": [],
   "source": [
    "from spade_bdi.bdi import BDIAgent\n",
    "import asyncio\n",
    "import pandas as pd\n",
    "from spade.message import Message\n",
    "import nest_asyncio\n",
    "\n",
    "# Apply nest_asyncio to allow asyncio to work in Jupyter notebooks\n",
    "nest_asyncio.apply()\n",
    "\n",
    "async def main():\n",
    "    agent1 = BDIAgent(\"grp27.1.cpt302@jabber.hot-chilli.net\", \"Tj1uH4ns0wen\", \"thread_moderator.asl\")\n",
    "    agent2 = BDIAgent(\"grp27.2.cpt302@jabber.hot-chilli.net\", \"Tj1uH4ns0wen\", \"user_moderator.asl\")\n",
    "    agent3 = BDIAgent(\"grp27.3.cpt302@jabber.hot-chilli.net\", \"Tj1uH4ns0wen\", \"consensus.asl\")\n",
    "    await agent1.start()\n",
    "    if not agent1.is_alive():\n",
    "        print(\"Agent 1 failed to start.\")\n",
    "        return\n",
    "    print(f\"Agent 1 started successfully. {agent1.jid}\" )\n",
    "\n",
    "    await agent2.start()\n",
    "    if not agent2.is_alive():\n",
    "        print(\"Agent 2 failed to start.\")\n",
    "        return\n",
    "    print(\"Agent 2 started successfully.\")\n",
    "    await agent3.start()\n",
    "    if not agent3.is_alive():\n",
    "        print(\"Agent 3 failed to start.\")\n",
    "        return\n",
    "    print(\"Agent 3 started successfully.\")\n",
    "    await asyncio.sleep(1)\n",
    "    await read_data(agent1)\n",
    "\n",
    "async def read_data(agent):\n",
    "    agent.bdi.set_belief(\"thread_moderator\", True)\n",
    "    # Create a small test dataset instead of loading the large one\n",
    "    # This avoids the \"No space left on device\" error\n",
    "    test_data = [\n",
    "        {\"user\": \"user1@example.com\", \"tweet\": \"I really enjoy this discussion, great points everyone!\"},\n",
    "        {\"user\": \"user2@example.com\", \"tweet\": \"This is such an informative thread, thanks for sharing your knowledge.\"},\n",
    "        {\"user\": \"toxic_user@example.com\", \"tweet\": \"You're all idiots, this discussion is worthless.\"},\n",
    "        # {\"user\": \"user3@example.com\", \"tweet\": \"I respectfully disagree with the previous point.\"},\n",
    "        # {\"user\": \"toxic_user@example.com\", \"tweet\": \"I hate all of you, hope bad things happen to you all.\"},\n",
    "        # {\"user\": \"user4@example.com\", \"tweet\": \"Let's keep the conversation respectful and productive.\"},\n",
    "        # {\"user\": \"user5@example.com\", \"tweet\": \"Here's an interesting article related to our discussion: [link]\"},\n",
    "        # {\"user\": \"toxic_user@example.com\", \"tweet\": \"This thread is full of stupid people with no brains.\"},\n",
    "        # {\"user\": \"user1@example.com\", \"tweet\": \"I think we should consider another perspective on this issue.\"},\n",
    "        # {\"user\": \"user6@example.com\", \"tweet\": \"Thank you all for your insights, I've learned a lot today!\"}\n",
    "    ]\n",
    "    \n",
    "    print(f\"Processing {len(test_data)} test messages...\")\n",
    "    \n",
    "    for i, item in enumerate(test_data):\n",
    "        sender = item['user']\n",
    "        body = item['tweet']\n",
    "        agent.bdi.set_belief(\"tweet\", f'\"{sender}\"', f'\"{body}\"')\n",
    "       \n",
    "        await asyncio.sleep(0.5)"
   ]
  },
  {
   "cell_type": "code",
   "execution_count": 114,
   "id": "930e11c4",
   "metadata": {},
   "outputs": [
    {
     "name": "stderr",
     "output_type": "stream",
     "text": [
      "INFO:slixmpp.features.feature_bind.bind:JID set to: grp27.1.cpt302@jabber.hot-chilli.net/tGVH0uo8alwq\n",
      "INFO:spade.Agent:Agent grp27.1.cpt302@jabber.hot-chilli.net connected and authenticated.\n"
     ]
    },
    {
     "name": "stdout",
     "output_type": "stream",
     "text": [
      "Agent 1 started successfully. grp27.1.cpt302@jabber.hot-chilli.net\n"
     ]
    },
    {
     "name": "stderr",
     "output_type": "stream",
     "text": [
      "INFO:slixmpp.features.feature_bind.bind:JID set to: grp27.2.cpt302@jabber.hot-chilli.net/RR-N4nAobW-k\n",
      "INFO:spade.Agent:Agent grp27.2.cpt302@jabber.hot-chilli.net connected and authenticated.\n"
     ]
    },
    {
     "name": "stdout",
     "output_type": "stream",
     "text": [
      "Agent 2 started successfully.\n"
     ]
    },
    {
     "name": "stderr",
     "output_type": "stream",
     "text": [
      "INFO:slixmpp.features.feature_bind.bind:JID set to: grp27.3.cpt302@jabber.hot-chilli.net/_Rq_eoz54wur\n",
      "INFO:spade.Agent:Agent grp27.3.cpt302@jabber.hot-chilli.net connected and authenticated.\n"
     ]
    },
    {
     "name": "stdout",
     "output_type": "stream",
     "text": [
      "Agent 3 started successfully.\n",
      "Processing 3 test messages...\n",
      "grp27.1.cpt302@jabber.hot-chilli.net tweet received user1@example.com I really enjoy this discussion, great points everyone!\n",
      "grp27.1.cpt302@jabber.hot-chilli.net python harmful received\n"
     ]
    },
    {
     "name": "stderr",
     "output_type": "stream",
     "text": [
      "ERROR:spade.behaviour:Exception running behaviour CyclicBehaviour/BDIBehaviour: invalid syntax (<unknown>, line 1)\n",
      "ERROR:spade.behaviour:Traceback (most recent call last):\n",
      "  File \"c:\\Users\\jason\\anaconda3\\envs\\myenv\\lib\\site-packages\\spade\\behaviour.py\", line 285, in _step\n",
      "    await self._run()\n",
      "  File \"c:\\Users\\jason\\anaconda3\\envs\\myenv\\lib\\site-packages\\spade\\behaviour.py\", line 274, in _run\n",
      "    await self.run()\n",
      "  File \"c:\\Users\\jason\\anaconda3\\envs\\myenv\\lib\\site-packages\\spade_bdi\\bdi.py\", line 270, in run\n",
      "    functor, args = parse_literal(msg.body)\n",
      "  File \"c:\\Users\\jason\\anaconda3\\envs\\myenv\\lib\\site-packages\\spade_bdi\\bdi.py\", line 311, in parse_literal\n",
      "    args = literal_eval(args)\n",
      "  File \"c:\\Users\\jason\\anaconda3\\envs\\myenv\\lib\\ast.py\", line 59, in literal_eval\n",
      "    node_or_string = parse(node_or_string, mode='eval')\n",
      "  File \"c:\\Users\\jason\\anaconda3\\envs\\myenv\\lib\\ast.py\", line 47, in parse\n",
      "    return compile(source, filename, mode, flags,\n",
      "  File \"<unknown>\", line 1\n",
      "    user1@example.com, I really enjoy this discussion, great points everyone!\n",
      "                         ^\n",
      "SyntaxError: invalid syntax\n",
      "\n",
      "INFO:spade.behaviour:Killing behavior CyclicBehaviour/BDIBehaviour with exit code: invalid syntax (<unknown>, line 1)\n",
      "INFO:spade.behaviour:Killing behavior CyclicBehaviour/BDIBehaviour with exit code: None\n"
     ]
    },
    {
     "name": "stdout",
     "output_type": "stream",
     "text": [
      "grp27.1.cpt302@jabber.hot-chilli.net tweet received user2@example.com This is such an informative thread, thanks for sharing your knowledge.\n",
      "grp27.1.cpt302@jabber.hot-chilli.net python harmful received\n"
     ]
    },
    {
     "name": "stderr",
     "output_type": "stream",
     "text": [
      "WARNING:spade.Agent:No behaviour matched for message: <message to=\"grp27.2.cpt302@jabber.hot-chilli.net\" from=\"grp27.1.cpt302@jabber.hot-chilli.net\" thread=\"None\" metadata={'performative': 'BDI', 'ilf_type': 'tell'}>\n",
      "harmful(user2@example.com, This is such an informative thread, thanks for sharing your knowledge.)\n",
      "</message>\n"
     ]
    },
    {
     "name": "stdout",
     "output_type": "stream",
     "text": [
      "grp27.1.cpt302@jabber.hot-chilli.net tweet received toxic_user@example.com You're all idiots, this discussion is worthless.\n",
      "grp27.1.cpt302@jabber.hot-chilli.net python harmful received\n"
     ]
    },
    {
     "name": "stderr",
     "output_type": "stream",
     "text": [
      "WARNING:spade.Agent:No behaviour matched for message: <message to=\"grp27.2.cpt302@jabber.hot-chilli.net\" from=\"grp27.1.cpt302@jabber.hot-chilli.net\" thread=\"None\" metadata={'performative': 'BDI', 'ilf_type': 'tell'}>\n",
      "harmful(toxic_user@example.com, You're all idiots, this discussion is worthless.)\n",
      "</message>\n"
     ]
    }
   ],
   "source": [
    "asyncio.get_event_loop().run_until_complete(main())"
   ]
  },
  {
   "cell_type": "code",
   "execution_count": null,
   "id": "62c1fb20",
   "metadata": {},
   "outputs": [],
   "source": []
  }
 ],
 "metadata": {
  "kernelspec": {
   "display_name": "Python (myenv)",
   "language": "python",
   "name": "myenv"
  },
  "language_info": {
   "codemirror_mode": {
    "name": "ipython",
    "version": 3
   },
   "file_extension": ".py",
   "mimetype": "text/x-python",
   "name": "python",
   "nbconvert_exporter": "python",
   "pygments_lexer": "ipython3",
   "version": "3.8.20"
  }
 },
 "nbformat": 4,
 "nbformat_minor": 5
}
