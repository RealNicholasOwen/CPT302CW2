{
 "cells": [
  {
   "cell_type": "code",
   "execution_count": null,
   "id": "f8cab61e",
   "metadata": {},
   "outputs": [
    {
     "name": "stderr",
     "output_type": "stream",
     "text": [
      "Hardware accelerator e.g. GPU is available in the environment, but no `device` argument is passed to the `Pipeline` object. Model will be on CPU.\n",
      "c:\\Users\\jason\\anaconda3\\envs\\myenv\\lib\\site-packages\\transformers\\pipelines\\text_classification.py:106: UserWarning: `return_all_scores` is now deprecated,  if want a similar functionality use `top_k=None` instead of `return_all_scores=True` or `top_k=1` instead of `return_all_scores=False`.\n",
      "  warnings.warn(\n",
      "c:\\Users\\jason\\anaconda3\\envs\\myenv\\lib\\site-packages\\transformers\\pipelines\\text_classification.py:106: UserWarning: `return_all_scores` is now deprecated,  if want a similar functionality use `top_k=None` instead of `return_all_scores=True` or `top_k=1` instead of `return_all_scores=False`.\n",
      "  warnings.warn(\n"
     ]
    }
   ],
   "source": [
    "from spade.behaviour import CyclicBehaviour\n",
    "from spade.message import Message\n",
    "from transformers import pipeline\n",
    "agent1.add_behaviour(ThreadMonitor())\n",
    "\n",
    "toxic = pipeline(\"text-classification\", model=\"unitary/toxic-bert\", return_all_scores=True)\n",
    "\n",
    "def __init__(self, *args, **kwargs):\n",
    "    super().__init__(*args, **kwargs)\n",
    "    # Map user JID to list of past scores\n",
    "\n",
    "class ThreadMonitor(CyclicBehaviour):\n",
    "    async def run(self):\n",
    "        # Wait for incoming XMPP messages\n",
    "        msg: Message = await self.receive(timeout=30)\n",
    "        if msg:\n",
    "            text = msg.body\n",
    "            sender = str(msg.sender)\n",
    "            await self.agent.bdi.set_belief(\"message\", text, sender)\n",
    "            await self.agent.bdi.post_event(\"!python_analyze\", text, sender)\n",
    "           \n",
    "@agent1.agent.bdi.on_event(\"!python_analyze\")\n",
    "async def analyze_message(self, text, sender):\n",
    "    score = classify_text(text)\n",
    "    msg_id = f\"{hash(text)}_{sender}\"\n",
    "    self.agent.bdi.set_belief(\"harmful\", msg_id, text, score)\n",
    "    msg1 = Message(to=\"grp27.3.cpt302@xmpp.jp\")\n",
    "    msg1.set_metadata(\"performative\", \"inform\")\n",
    "    \n",
    "    msg1.body = f\"harmful({msg_id},{text}, {score}, {sender})\"\n",
    "    await self.send(msg1)\n",
    "\n",
    "    msg2 = Message(to=\"grp27.2.cpt302@xmpp.jp\")\n",
    "    msg2.set_metadata(\"performative\", \"inform\")\n",
    "    msg_id = f\"{hash(text)}_{str(msg.sender)}\"\n",
    "    msg2.body = f\"harmful({msg_id},{text}, {score})\"\n",
    "    await self.send(msg2)\n",
    "    return True\n",
    "\n",
    "\n",
    "def classify_text(text):\n",
    "    # Use the toxic pipeline to classify the text\n",
    "    results = toxic(text)\n",
    "    # Unwrap nested list if return_all_scores=True\n",
    "    entries = results[0] if isinstance(results, list) and isinstance(results[0], list) else results\n",
    "    # Extract the scores for each label\n",
    "    scores = {item['label']: item['score'] for item in entries}\n",
    "\n",
    "    # Define weights for each label to reflect severity\n",
    "    weights = {\n",
    "        'toxic': 1.0,\n",
    "        'severe_toxic': 0,\n",
    "        'obscene': 1.0,\n",
    "        'insult': 1.0,\n",
    "        'identity_hate': 0,\n",
    "    }\n",
    "    # Compute weighted average harmfulness\n",
    "    weighted_sum = sum(scores.get(label, 0.0) * weights.get(label, 1.0) for label in weights)\n",
    "    total_weight = sum(weights.values())\n",
    "    avg_harm = weighted_sum / total_weight\n",
    "\n",
    "    # Map [0.0…1.0] avg_harm to [-1.0…+1.0] composite scale\n",
    "    composite = 1.0 - avg_harm * 2.0\n",
    "    return composite\n"
   ]
  },
  {
   "cell_type": "code",
   "execution_count": 17,
   "id": "bbc7bf39",
   "metadata": {},
   "outputs": [
    {
     "name": "stdout",
     "output_type": "stream",
     "text": [
      "-0.6232570012410481\n"
     ]
    }
   ],
   "source": [
    "# samples = [\n",
    "#     \"You're such an idiot, nobody cares about your opinion\",\n",
    "#     \"I think your point makes sense, but maybe we could also consider this other perspective\"\n",
    "# ]\n",
    "# for text in samples:\n",
    "#     result = classify_text(text)\n",
    "#     print(f\"Input: {text}\\nClassification scores: {result}\\n\")\n",
    "\n",
    "\n",
    "\n",
    "text = \"You're such an idiot, nobody cares about your opinion\"\n",
    "print(classify_text(text))"
   ]
  },
  {
   "cell_type": "code",
   "execution_count": null,
   "id": "68f32d0e",
   "metadata": {},
   "outputs": [],
   "source": []
  }
 ],
 "metadata": {
  "kernelspec": {
   "display_name": "Python (myenv)",
   "language": "python",
   "name": "myenv"
  },
  "language_info": {
   "codemirror_mode": {
    "name": "ipython",
    "version": 3
   },
   "file_extension": ".py",
   "mimetype": "text/x-python",
   "name": "python",
   "nbconvert_exporter": "python",
   "pygments_lexer": "ipython3",
   "version": "3.8.20"
  }
 },
 "nbformat": 4,
 "nbformat_minor": 5
}
